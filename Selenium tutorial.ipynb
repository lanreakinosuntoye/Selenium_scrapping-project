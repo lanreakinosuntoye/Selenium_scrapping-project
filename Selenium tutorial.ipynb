{
 "cells": [
  {
   "cell_type": "markdown",
   "metadata": {},
   "source": [
    "Selenium allows you perform cool stuff on html pages. create bots, drag and drop and other cool things. It basically allows you \n",
    "interact with html elements from any website."
   ]
  },
  {
   "cell_type": "code",
   "execution_count": 1,
   "metadata": {},
   "outputs": [],
   "source": [
    "from selenium import webdriver #the webdriver is what links up with the browser. so you must pick a browser you want to link up with\n",
    "from selenium.webdriver.common.keys import Keys #this enables us work with keys like enter and escape, so that when we hit some of these keys, it can give you results\n",
    "from selenium.webdriver.common.by import By\n",
    "from selenium.webdriver.support.ui import WebDriverWait\n",
    "from selenium.webdriver.support import expected_conditions as EC\n",
    "\n",
    "import time\n",
    "\n",
    "\n"
   ]
  },
  {
   "cell_type": "code",
   "execution_count": 155,
   "metadata": {},
   "outputs": [
    {
     "name": "stdout",
     "output_type": "stream",
     "text": [
      "hello\n"
     ]
    }
   ],
   "source": [
    "\n",
    "#time.sleep(10)\n",
    "print('hello')"
   ]
  },
  {
   "cell_type": "code",
   "execution_count": 3,
   "metadata": {},
   "outputs": [
    {
     "name": "stdout",
     "output_type": "stream",
     "text": [
      "Collecting selenium\n",
      "  Downloading https://files.pythonhosted.org/packages/80/d6/4294f0b4bce4de0abf13e17190289f9d0613b0a44e5dd6a7f5ca98459853/selenium-3.141.0-py2.py3-none-any.whl (904kB)\n",
      "Requirement already satisfied: urllib3 in c:\\users\\senator\\anaconda3\\lib\\site-packages (from selenium) (1.24.2)\n",
      "Installing collected packages: selenium\n",
      "Successfully installed selenium-3.141.0\n"
     ]
    }
   ],
   "source": [
    "!pip install selenium"
   ]
  },
  {
   "cell_type": "code",
   "execution_count": 5,
   "metadata": {},
   "outputs": [],
   "source": [
    "PATH = \"C:\\Program Files (x86)\\chromedriver.exe\" #we are trying to get the path to the file. you can also leave it in downloads"
   ]
  },
  {
   "cell_type": "code",
   "execution_count": 6,
   "metadata": {},
   "outputs": [],
   "source": [
    "driver = webdriver.Chrome(PATH) #\n",
    "\n",
    "#//*[@id=\"b_results\"]/li[3]/h2/a"
   ]
  },
  {
   "cell_type": "code",
   "execution_count": 223,
   "metadata": {},
   "outputs": [
    {
     "ename": "WebDriverException",
     "evalue": "Message: 'geckodriver' executable needs to be in PATH. \n",
     "output_type": "error",
     "traceback": [
      "\u001b[1;31m---------------------------------------------------------------------------\u001b[0m",
      "\u001b[1;31mFileNotFoundError\u001b[0m                         Traceback (most recent call last)",
      "\u001b[1;32m~\\Anaconda3\\lib\\site-packages\\selenium\\webdriver\\common\\service.py\u001b[0m in \u001b[0;36mstart\u001b[1;34m(self)\u001b[0m\n\u001b[0;32m     75\u001b[0m                                             \u001b[0mstderr\u001b[0m\u001b[1;33m=\u001b[0m\u001b[0mself\u001b[0m\u001b[1;33m.\u001b[0m\u001b[0mlog_file\u001b[0m\u001b[1;33m,\u001b[0m\u001b[1;33m\u001b[0m\u001b[1;33m\u001b[0m\u001b[0m\n\u001b[1;32m---> 76\u001b[1;33m                                             stdin=PIPE)\n\u001b[0m\u001b[0;32m     77\u001b[0m         \u001b[1;32mexcept\u001b[0m \u001b[0mTypeError\u001b[0m\u001b[1;33m:\u001b[0m\u001b[1;33m\u001b[0m\u001b[1;33m\u001b[0m\u001b[0m\n",
      "\u001b[1;32m~\\Anaconda3\\lib\\subprocess.py\u001b[0m in \u001b[0;36m__init__\u001b[1;34m(self, args, bufsize, executable, stdin, stdout, stderr, preexec_fn, close_fds, shell, cwd, env, universal_newlines, startupinfo, creationflags, restore_signals, start_new_session, pass_fds, encoding, errors, text)\u001b[0m\n\u001b[0;32m    774\u001b[0m                                 \u001b[0merrread\u001b[0m\u001b[1;33m,\u001b[0m \u001b[0merrwrite\u001b[0m\u001b[1;33m,\u001b[0m\u001b[1;33m\u001b[0m\u001b[1;33m\u001b[0m\u001b[0m\n\u001b[1;32m--> 775\u001b[1;33m                                 restore_signals, start_new_session)\n\u001b[0m\u001b[0;32m    776\u001b[0m         \u001b[1;32mexcept\u001b[0m\u001b[1;33m:\u001b[0m\u001b[1;33m\u001b[0m\u001b[1;33m\u001b[0m\u001b[0m\n",
      "\u001b[1;32m~\\Anaconda3\\lib\\subprocess.py\u001b[0m in \u001b[0;36m_execute_child\u001b[1;34m(self, args, executable, preexec_fn, close_fds, pass_fds, cwd, env, startupinfo, creationflags, shell, p2cread, p2cwrite, c2pread, c2pwrite, errread, errwrite, unused_restore_signals, unused_start_new_session)\u001b[0m\n\u001b[0;32m   1177\u001b[0m                                          \u001b[0mos\u001b[0m\u001b[1;33m.\u001b[0m\u001b[0mfspath\u001b[0m\u001b[1;33m(\u001b[0m\u001b[0mcwd\u001b[0m\u001b[1;33m)\u001b[0m \u001b[1;32mif\u001b[0m \u001b[0mcwd\u001b[0m \u001b[1;32mis\u001b[0m \u001b[1;32mnot\u001b[0m \u001b[1;32mNone\u001b[0m \u001b[1;32melse\u001b[0m \u001b[1;32mNone\u001b[0m\u001b[1;33m,\u001b[0m\u001b[1;33m\u001b[0m\u001b[1;33m\u001b[0m\u001b[0m\n\u001b[1;32m-> 1178\u001b[1;33m                                          startupinfo)\n\u001b[0m\u001b[0;32m   1179\u001b[0m             \u001b[1;32mfinally\u001b[0m\u001b[1;33m:\u001b[0m\u001b[1;33m\u001b[0m\u001b[1;33m\u001b[0m\u001b[0m\n",
      "\u001b[1;31mFileNotFoundError\u001b[0m: [WinError 2] The system cannot find the file specified",
      "\nDuring handling of the above exception, another exception occurred:\n",
      "\u001b[1;31mWebDriverException\u001b[0m                        Traceback (most recent call last)",
      "\u001b[1;32m<ipython-input-223-37726aee6fab>\u001b[0m in \u001b[0;36m<module>\u001b[1;34m\u001b[0m\n\u001b[0;32m      2\u001b[0m \u001b[1;32mfrom\u001b[0m \u001b[0mselenium\u001b[0m \u001b[1;32mimport\u001b[0m \u001b[0mwebdriver\u001b[0m\u001b[1;33m\u001b[0m\u001b[1;33m\u001b[0m\u001b[0m\n\u001b[0;32m      3\u001b[0m \u001b[1;33m\u001b[0m\u001b[0m\n\u001b[1;32m----> 4\u001b[1;33m \u001b[0mdriver\u001b[0m \u001b[1;33m=\u001b[0m \u001b[0mwebdriver\u001b[0m\u001b[1;33m.\u001b[0m\u001b[0mFirefox\u001b[0m\u001b[1;33m(\u001b[0m\u001b[1;33m)\u001b[0m\u001b[1;33m\u001b[0m\u001b[1;33m\u001b[0m\u001b[0m\n\u001b[0m\u001b[0;32m      5\u001b[0m \u001b[0mdriver\u001b[0m\u001b[1;33m.\u001b[0m\u001b[0mget\u001b[0m\u001b[1;33m(\u001b[0m\u001b[1;34m\"https://dev.to\"\u001b[0m\u001b[1;33m)\u001b[0m\u001b[1;33m\u001b[0m\u001b[1;33m\u001b[0m\u001b[0m\n\u001b[0;32m      6\u001b[0m \u001b[1;33m\u001b[0m\u001b[0m\n",
      "\u001b[1;32m~\\Anaconda3\\lib\\site-packages\\selenium\\webdriver\\firefox\\webdriver.py\u001b[0m in \u001b[0;36m__init__\u001b[1;34m(self, firefox_profile, firefox_binary, timeout, capabilities, proxy, executable_path, options, service_log_path, firefox_options, service_args, desired_capabilities, log_path, keep_alive)\u001b[0m\n\u001b[0;32m    162\u001b[0m                 \u001b[0mservice_args\u001b[0m\u001b[1;33m=\u001b[0m\u001b[0mservice_args\u001b[0m\u001b[1;33m,\u001b[0m\u001b[1;33m\u001b[0m\u001b[1;33m\u001b[0m\u001b[0m\n\u001b[0;32m    163\u001b[0m                 log_path=service_log_path)\n\u001b[1;32m--> 164\u001b[1;33m             \u001b[0mself\u001b[0m\u001b[1;33m.\u001b[0m\u001b[0mservice\u001b[0m\u001b[1;33m.\u001b[0m\u001b[0mstart\u001b[0m\u001b[1;33m(\u001b[0m\u001b[1;33m)\u001b[0m\u001b[1;33m\u001b[0m\u001b[1;33m\u001b[0m\u001b[0m\n\u001b[0m\u001b[0;32m    165\u001b[0m \u001b[1;33m\u001b[0m\u001b[0m\n\u001b[0;32m    166\u001b[0m             \u001b[0mcapabilities\u001b[0m\u001b[1;33m.\u001b[0m\u001b[0mupdate\u001b[0m\u001b[1;33m(\u001b[0m\u001b[0moptions\u001b[0m\u001b[1;33m.\u001b[0m\u001b[0mto_capabilities\u001b[0m\u001b[1;33m(\u001b[0m\u001b[1;33m)\u001b[0m\u001b[1;33m)\u001b[0m\u001b[1;33m\u001b[0m\u001b[1;33m\u001b[0m\u001b[0m\n",
      "\u001b[1;32m~\\Anaconda3\\lib\\site-packages\\selenium\\webdriver\\common\\service.py\u001b[0m in \u001b[0;36mstart\u001b[1;34m(self)\u001b[0m\n\u001b[0;32m     81\u001b[0m                 raise WebDriverException(\n\u001b[0;32m     82\u001b[0m                     \"'%s' executable needs to be in PATH. %s\" % (\n\u001b[1;32m---> 83\u001b[1;33m                         os.path.basename(self.path), self.start_error_message)\n\u001b[0m\u001b[0;32m     84\u001b[0m                 )\n\u001b[0;32m     85\u001b[0m             \u001b[1;32melif\u001b[0m \u001b[0merr\u001b[0m\u001b[1;33m.\u001b[0m\u001b[0merrno\u001b[0m \u001b[1;33m==\u001b[0m \u001b[0merrno\u001b[0m\u001b[1;33m.\u001b[0m\u001b[0mEACCES\u001b[0m\u001b[1;33m:\u001b[0m\u001b[1;33m\u001b[0m\u001b[1;33m\u001b[0m\u001b[0m\n",
      "\u001b[1;31mWebDriverException\u001b[0m: Message: 'geckodriver' executable needs to be in PATH. \n"
     ]
    }
   ],
   "source": [
    "# coding=utf-8\n",
    "from selenium import webdriver\n",
    " \n",
    "#driver = webdriver.Firefox()\n",
    "driver.get(\"https://dev.to\")\n",
    " \n",
    "driver.find_element_by_id(\"nav-search\").send_keys(\"Selenium\")"
   ]
  },
  {
   "cell_type": "code",
   "execution_count": 7,
   "metadata": {},
   "outputs": [],
   "source": [
    "driver.get(\"https:twitter.com\") #to now begin to open web pages #techwithtim.net"
   ]
  },
  {
   "cell_type": "code",
   "execution_count": null,
   "metadata": {},
   "outputs": [],
   "source": []
  },
  {
   "cell_type": "code",
   "execution_count": 9,
   "metadata": {},
   "outputs": [],
   "source": [
    "driver.close() #would close just the current tab\n",
    "driver.quit() #to quit the browser"
   ]
  },
  {
   "cell_type": "code",
   "execution_count": 34,
   "metadata": {},
   "outputs": [
    {
     "name": "stdout",
     "output_type": "stream",
     "text": [
      "Tech With Tim - Python & Java Programming Tutorials - techwithtim.net\n"
     ]
    }
   ],
   "source": [
    "print(driver.title)"
   ]
  },
  {
   "cell_type": "code",
   "execution_count": 184,
   "metadata": {},
   "outputs": [],
   "source": [
    "search = driver.find_element_by_name(\"s\") #check for id, class, name.. \n",
    "search.send_keys('test') #because we have brought in common keys we can now search fpr test\n",
    "time.sleep(5)\n",
    "search.send_keys(Keys.RETURN) #we can also now use the return or enter keys\n",
    "time.sleep(5)\n",
    "\n",
    "#driver.quit() #to quit the browser"
   ]
  },
  {
   "cell_type": "code",
   "execution_count": 52,
   "metadata": {},
   "outputs": [
    {
     "name": "stdout",
     "output_type": "stream",
     "text": [
      "<html lang=\"en-US\" class=\" js csstransforms csstransforms3d csstransitions\"><head><meta charset=\"UTF-8\"><meta name=\"viewport\" content=\"width=device-width, initial-scale=1\"><link rel=\"profile\" href=\"http://gmpg.org/xfn/11\"><link rel=\"pingback\" href=\"https://techwithtim.net/xmlrpc.php\">  <script src=\"https://www.googletagservices.com/activeview/js/current/osd.js?cb=%2Fr20100101\"></script><script src=\"https://partner.googleadservices.com/gampad/cookie.js?domain=techwithtim.net&amp;callback=_gfp_s_&amp;client=ca-pub-6240468619130074\"></script><script src=\"https://pagead2.googlesyndication.com/pagead/js/r20200831/r20190131/show_ads_impl_fy2019.js\" id=\"google_shimpl\"></script><script type=\"text/javascript\" async=\"\" src=\"https://www.google-analytics.com/analytics.js\"></script><script async=\"\" src=\"https://www.googletagmanager.com/gtag/js?id=UA-129383985-3\"></script> <script>window.dataLayer = window.dataLayer || [];\n",
      "  function gtag(){dataLayer.push(arguments);}\n",
      "  gtag('js', new Date());\n",
      "\n",
      "  gtag('config', 'UA-129383985-3');</script> <script>function clicked()\n",
      "{\n",
      "    alert(\"Subscriptions coming soon...\");\n",
      "}</script> <link media=\"all\" href=\"https://techwithtim.net/wp-content/cache/autoptimize/css/autoptimize_fab88bc3cde4aacf23a2ff89c87a2037.css\" rel=\"stylesheet\"><title>Tech With Tim - Python &amp; Java Programming Tutorials - techwithtim.net</title><meta name=\"description\" content=\"Python and Java Programming tutorials by Tech With Tim. Featuring pygame game development, machine learning with python &amp; beginner java tutorials\"><meta name=\"robots\" content=\"index, follow, max-snippet:-1, max-image-preview:large, max-video-preview:-1\"><link rel=\"canonical\" href=\"https://techwithtim.net/home\"><meta property=\"og:locale\" content=\"en_US\"><meta property=\"og:type\" content=\"website\"><meta property=\"og:title\" content=\"Tech With Tim - Python &amp; Java Programming Tutorials - techwithtim.net\"><meta property=\"og:description\" content=\"Python and Java Programming tutorials by Tech With Tim. Featuring pygame game development, machine learning with python &amp; beginner java tutorials\"><meta property=\"og:url\" content=\"https://techwithtim.net/home\"><meta property=\"og:site_name\" content=\"techwithtim.net\"><meta property=\"article:modified_time\" content=\"2019-02-06T05:35:07+00:00\"><meta name=\"twitter:card\" content=\"summary_large_image\"><meta name=\"twitter:title\" content=\"techwithtimm\"><meta name=\"twitter:creator\" content=\"@https://twitter.com/TechWithTimm\"><meta name=\"twitter:site\" content=\"@techwithtimm\"> <script type=\"application/ld+json\" class=\"yoast-schema-graph\">{\"@context\":\"https://schema.org\",\"@graph\":[{\"@type\":\"WebSite\",\"@id\":\"https://techwithtim.net/#website\",\"url\":\"https://techwithtim.net/\",\"name\":\"techwithtim.net\",\"description\":\"Programming &amp; Tech Tutorials\",\"potentialAction\":[{\"@type\":\"SearchAction\",\"target\":\"https://techwithtim.net/?s={search_term_string}\",\"query-input\":\"required name=search_term_string\"}],\"inLanguage\":\"en-US\"},{\"@type\":\"WebPage\",\"@id\":\"https://techwithtim.net/home#webpage\",\"url\":\"https://techwithtim.net/home\",\"name\":\"Tech With Tim - Python & Java Programming Tutorials - techwithtim.net\",\"isPartOf\":{\"@id\":\"https://techwithtim.net/#website\"},\"datePublished\":\"2018-11-30T01:16:58+00:00\",\"dateModified\":\"2019-02-06T05:35:07+00:00\",\"description\":\"Python and Java Programming tutorials by Tech With Tim. Featuring pygame game development, machine learning with python & beginner java tutorials\",\"inLanguage\":\"en-US\",\"potentialAction\":[{\"@type\":\"ReadAction\",\"target\":[\"https://techwithtim.net/home\"]}]}]}</script> <link rel=\"dns-prefetch\" href=\"//fonts.googleapis.com\"><link rel=\"dns-prefetch\" href=\"//s.w.org\"><link rel=\"alternate\" type=\"application/rss+xml\" title=\"techwithtim.net » Feed\" href=\"https://techwithtim.net/feed/\"><link rel=\"alternate\" type=\"application/rss+xml\" title=\"techwithtim.net » Comments Feed\" href=\"https://techwithtim.net/comments/feed/\"> <script type=\"text/javascript\">window._wpemojiSettings = {\"baseUrl\":\"https:\\/\\/s.w.org\\/images\\/core\\/emoji\\/13.0.0\\/72x72\\/\",\"ext\":\".png\",\"svgUrl\":\"https:\\/\\/s.w.org\\/images\\/core\\/emoji\\/13.0.0\\/svg\\/\",\"svgExt\":\".svg\",\"source\":{\"concatemoji\":\"https:\\/\\/techwithtim.net\\/wp-includes\\/js\\/wp-emoji-release.min.js?ver=5.5.1\"}};\n",
      "\t\t\t!function(e,a,t){var r,n,o,i,p=a.createElement(\"canvas\"),s=p.getContext&&p.getContext(\"2d\");function c(e,t){var a=String.fromCharCode;s.clearRect(0,0,p.width,p.height),s.fillText(a.apply(this,e),0,0);var r=p.toDataURL();return s.clearRect(0,0,p.width,p.height),s.fillText(a.apply(this,t),0,0),r===p.toDataURL()}function l(e){if(!s||!s.fillText)return!1;switch(s.textBaseline=\"top\",s.font=\"600 32px Arial\",e){case\"flag\":return!c([127987,65039,8205,9895,65039],[127987,65039,8203,9895,65039])&&(!c([55356,56826,55356,56819],[55356,56826,8203,55356,56819])&&!c([55356,57332,56128,56423,56128,56418,56128,56421,56128,56430,56128,56423,56128,56447],[55356,57332,8203,56128,56423,8203,56128,56418,8203,56128,56421,8203,56128,56430,8203,56128,56423,8203,56128,56447]));case\"emoji\":return!c([55357,56424,8205,55356,57212],[55357,56424,8203,55356,57212])}return!1}function d(e){var t=a.createElement(\"script\");t.src=e,t.defer=t.type=\"text/javascript\",a.getElementsByTagName(\"head\")[0].appendChild(t)}for(i=Array(\"flag\",\"emoji\"),t.supports={everything:!0,everythingExceptFlag:!0},o=0;o<i.length;o++)t.supports[i[o]]=l(i[o]),t.supports.everything=t.supports.everything&&t.supports[i[o]],\"flag\"!==i[o]&&(t.supports.everythingExceptFlag=t.supports.everythingExceptFlag&&t.supports[i[o]]);t.supports.everythingExceptFlag=t.supports.everythingExceptFlag&&!t.supports.flag,t.DOMReady=!1,t.readyCallback=function(){t.DOMReady=!0},t.supports.everything||(n=function(){t.readyCallback()},a.addEventListener?(a.addEventListener(\"DOMContentLoaded\",n,!1),e.addEventListener(\"load\",n,!1)):(e.attachEvent(\"onload\",n),a.attachEvent(\"onreadystatechange\",function(){\"complete\"===a.readyState&&t.readyCallback()})),(r=t.source||{}).concatemoji?d(r.concatemoji):r.wpemoji&&r.twemoji&&(d(r.twemoji),d(r.wpemoji)))}(window,document,window._wpemojiSettings);</script><script src=\"https://techwithtim.net/wp-includes/js/wp-emoji-release.min.js?ver=5.5.1\" type=\"text/javascript\" defer=\"\"></script> <link rel=\"stylesheet\" id=\"simpel-title-font-css\" href=\"//fonts.googleapis.com/css?family=Roboto%3A100%2C300%2C400%2C700&amp;ver=5.5.1\" type=\"text/css\" media=\"all\"><link rel=\"stylesheet\" id=\"simpel-body-font-css\" href=\"//fonts.googleapis.com/css?family=Roboto%3A100%2C300%2C400%2C700&amp;ver=5.5.1\" type=\"text/css\" media=\"all\"> <script type=\"text/javascript\" src=\"https://techwithtim.net/wp-includes/js/jquery/jquery.js?ver=1.12.4-wp\" id=\"jquery-core-js\"></script> <script type=\"text/javascript\" id=\"email-subscribers-js-extra\">var es_data = {\"messages\":{\"es_empty_email_notice\":\"Please enter email address\",\"es_rate_limit_notice\":\"You need to wait for sometime before subscribing again\",\"es_single_optin_success_message\":\"Successfully Subscribed.\",\"es_email_exists_notice\":\"Email Address already exists!\",\"es_unexpected_error_notice\":\"Oops.. Unexpected error occurred.\",\"es_invalid_email_notice\":\"Invalid email address\",\"es_try_later_notice\":\"Please try after some time\"},\"es_ajax_url\":\"https:\\/\\/techwithtim.net\\/wp-admin\\/admin-ajax.php\"};</script> <link rel=\"https://api.w.org/\" href=\"https://techwithtim.net/wp-json/\"><link rel=\"alternate\" type=\"application/json\" href=\"https://techwithtim.net/wp-json/wp/v2/pages/6\"><link rel=\"EditURI\" type=\"application/rsd+xml\" title=\"RSD\" href=\"https://techwithtim.net/xmlrpc.php?rsd\"><link rel=\"wlwmanifest\" type=\"application/wlwmanifest+xml\" href=\"https://techwithtim.net/wp-includes/wlwmanifest.xml\"><meta name=\"generator\" content=\"WordPress 5.5.1\"><link rel=\"shortlink\" href=\"https://techwithtim.net/\"><link rel=\"alternate\" type=\"application/json+oembed\" href=\"https://techwithtim.net/wp-json/oembed/1.0/embed?url=https%3A%2F%2Ftechwithtim.net%2F\"><link rel=\"alternate\" type=\"text/xml+oembed\" href=\"https://techwithtim.net/wp-json/oembed/1.0/embed?url=https%3A%2F%2Ftechwithtim.net%2F&amp;format=xml\"><style type=\"text/css\">.header-image {\n",
      "\t\t\tbackground: url(https://techwithtim.net/wp-content/uploads/2020/02/cropped-Webp.net-resizeimage.png) no-repeat 50% 50%;\n",
      "\t\t\t-webkit-background-size: cover;\n",
      "\t\t\t-moz-background-size:    cover;\n",
      "\t\t\t-o-background-size:      cover;\n",
      "\t\t\tbackground-size:         cover;\n",
      "\t\t}\n",
      "\n",
      "\t\t@media screen and (min-width: 59.6875em) {\n",
      "\t\t\tbody:before {\n",
      "\t\t\t\tbackground: url(https://techwithtim.net/wp-content/uploads/2020/02/cropped-Webp.net-resizeimage.png) no-repeat 100% 50%;\n",
      "\t\t\t\t-webkit-background-size: cover;\n",
      "\t\t\t\t-moz-background-size:    cover;\n",
      "\t\t\t\t-o-background-size:      cover;\n",
      "\t\t\t\tbackground-size:         cover;\n",
      "\t\t\t\tborder-right: 0;\n",
      "\t\t\t}\n",
      "\n",
      "\t\t\t.site-header {\n",
      "\t\t\t\tbackground: transparent;\n",
      "\t\t\t}\n",
      "\t\t}</style><link rel=\"icon\" href=\"https://techwithtim.net/wp-content/uploads/2020/02/cropped-Tech-With-TimXL-32x32.png\" sizes=\"32x32\"><link rel=\"icon\" href=\"https://techwithtim.net/wp-content/uploads/2020/02/cropped-Tech-With-TimXL-192x192.png\" sizes=\"192x192\"><link rel=\"apple-touch-icon\" href=\"https://techwithtim.net/wp-content/uploads/2020/02/cropped-Tech-With-TimXL-180x180.png\"><meta name=\"msapplication-TileImage\" content=\"https://techwithtim.net/wp-content/uploads/2020/02/cropped-Tech-With-TimXL-270x270.png\"><link rel=\"stylesheet\" href=\"https://use.fontawesome.com/releases/v5.6.0/css/all.css\" integrity=\"sha384-aOkxzJ5uQz7WBObEZcHvV5JvRW3TUc2rNPA7pe3AwnsUohiw1Vj2Rgx2KSOkF5+h\" crossorigin=\"anonymous\"><meta name=\"google-site-verification\" content=\"Klz-majLq2UU1MPxJLTwwrCBRgin6tHkBkqiIx8eaPA\"><link rel=\"preload\" href=\"https://adservice.google.com.ng/adsid/integrator.js?domain=techwithtim.net\" as=\"script\"><script type=\"text/javascript\" src=\"https://adservice.google.com.ng/adsid/integrator.js?domain=techwithtim.net\"></script><link rel=\"preload\" href=\"https://adservice.google.com/adsid/integrator.js?domain=techwithtim.net\" as=\"script\"><script type=\"text/javascript\" src=\"https://adservice.google.com/adsid/integrator.js?domain=techwithtim.net\"></script></head><body class=\"home page-template-default page page-id-6 siteorigin-panels  siteorigin-panels-home fts-powered-by-text-popup\"><div class=\"slicknav_menu\"><a href=\"#\" aria-haspopup=\"true\" tabindex=\"0\" class=\"slicknav_btn slicknav_collapsed\" style=\"outline: none;\"><span class=\"slicknav_menutxt\">MENU</span><span class=\"slicknav_icon\"><span class=\"slicknav_icon-bar\"></span><span class=\"slicknav_icon-bar\"></span><span class=\"slicknav_icon-bar\"></span></span></a><ul class=\"slicknav_nav slicknav_hidden\" aria-expanded=\"false\" aria-hidden=\"true\" role=\"menu\" style=\"display: none;\"><li class=\"menu-item menu-item-type-post_type menu-item-object-page menu-item-home current-menu-item page_item page-item-6 current_page_item menu-item-156\"><a href=\"https://techwithtim.net/\" aria-current=\"page\" role=\"menuitem\" tabindex=\"-1\">Home</a></li><li class=\"menu-item menu-item-type-post_type menu-item-object-page menu-item-25\"><a title=\"tutorials\" href=\"https://techwithtim.net/tutorials/\" role=\"menuitem\" tabindex=\"-1\">Tutorials</a></li><li class=\"menu-item menu-item-type-post_type menu-item-object-page menu-item-28\"><a title=\"community\" href=\"https://techwithtim.net/community/\" role=\"menuitem\" tabindex=\"-1\">Community</a></li><li class=\"menu-item menu-item-type-post_type menu-item-object-page menu-item-2262\"><a href=\"https://techwithtim.net/gear/\" role=\"menuitem\" tabindex=\"-1\">My Gear</a></li><li class=\"menu-item menu-item-type-custom menu-item-object-custom menu-item-3153\"><a href=\"https://teespring.com/stores/tech-with-tim-merch-shop\" role=\"menuitem\" tabindex=\"-1\">Shop</a></li><li class=\"menu-item menu-item-type-post_type menu-item-object-page menu-item-26\"><a title=\"support\" href=\"https://techwithtim.net/support-donate/\" role=\"menuitem\" tabindex=\"-1\">Support/Donate</a></li></ul></div><nav id=\"site-navigation\" class=\"main-navigation\" role=\"navigation\"><div class=\"container\"> <button class=\"menu-toggle\" aria-controls=\"menu\" aria-expanded=\"false\">Primary Menu</button><div class=\"menu-main-container\"><ul id=\"menu-main\" class=\"menu nav-menu\" aria-expanded=\"false\"><li id=\"menu-item-156\" class=\"menu-item menu-item-type-post_type menu-item-object-page menu-item-home current-menu-item page_item page-item-6 current_page_item menu-item-156\"><a href=\"https://techwithtim.net/\" aria-current=\"page\">Home</a></li><li id=\"menu-item-25\" class=\"menu-item menu-item-type-post_type menu-item-object-page menu-item-25\"><a title=\"tutorials\" href=\"https://techwithtim.net/tutorials/\">Tutorials</a></li><li id=\"menu-item-28\" class=\"menu-item menu-item-type-post_type menu-item-object-page menu-item-28\"><a title=\"community\" href=\"https://techwithtim.net/community/\">Community</a></li><li id=\"menu-item-2262\" class=\"menu-item menu-item-type-post_type menu-item-object-page menu-item-2262\"><a href=\"https://techwithtim.net/gear/\">My Gear</a></li><li id=\"menu-item-3153\" class=\"menu-item menu-item-type-custom menu-item-object-custom menu-item-3153\"><a href=\"https://teespring.com/stores/tech-with-tim-merch-shop\">Shop</a></li><li id=\"menu-item-26\" class=\"menu-item menu-item-type-post_type menu-item-object-page menu-item-26\"><a title=\"support\" href=\"https://techwithtim.net/support-donate/\">Support/Donate</a></li></ul></div></div></nav><header id=\"masthead\" class=\"site-header\" role=\"banner\"><div class=\"header-image\"><div class=\"site-branding container\"><div id=\"text-title-desc\"><h1 class=\"site-title title-font\"><a href=\"https://techwithtim.net/\" rel=\"home\">techwithtim.net</a></h1><h2 class=\"site-description\">Programming &amp; Tech Tutorials</h2></div></div><div class=\"search-wrapper\"><div class=\"container\"><div id=\"search-top\" class=\"col-lg-6 col-md-6 col-sm-12 col-xs-12\"><form method=\"get\" id=\"searchform\" action=\"https://techwithtim.net/\"><div><input type=\"text\" size=\"18\" value=\"\" name=\"s\" id=\"s\"> <button type=\"submit\" class=\"search-submit\"> <i class=\"fa fa-search\"></i> </button></div></form></div><div id=\"social-icons\" class=\"col-md-6 col-s-6 col-xs-12\"> <a href=\"https://www.youtube.com/techwithtim\"><i class=\"social-icon fa fa-youtube\"></i></a> <a href=\"https://twitter.com/TechWithTimm\"><i class=\"social-icon fa fa-twitter\"></i></a></div></div></div></div></header><div id=\"page\" class=\"hfeed site\" style=\"height: auto !important;\"> <a class=\"skip-link screen-reader-text\" href=\"#content\">Skip to content</a><div id=\"content\" class=\"site-content container\" style=\"height: auto !important;\"><div id=\"primary-mono\" class=\"content-area col-md-8\"><main id=\"main\" class=\"site-main\" role=\"main\"><article id=\"post-6\" class=\"post-6 page type-page status-publish hentry\"><header class=\"entry-header\"><h1 class=\"entry-title\">Home</h1></header><div class=\"entry-content\"><div id=\"pl-6\" class=\"panel-layout\"><div id=\"pg-6-0\" class=\"panel-grid panel-no-style\"><div id=\"pgc-6-0-0\" class=\"panel-grid-cell\"><div id=\"panel-6-0-0-0\" class=\"so-panel widget widget_sow-editor panel-first-child panel-last-child\" data-index=\"0\"><div class=\"so-widget-sow-editor so-widget-sow-editor-base\"><div class=\"siteorigin-widget-tinymce textwidget\"><h1 style=\"text-align: center; size: 170%;\">Learn To Code, It's Free...</h1><p style=\"text-align: center; font-size: 140%;\"><em>Python and Java Programming Tutorials by Tech With Tim</em></p></div></div></div></div></div><div id=\"pg-6-1\" class=\"panel-grid panel-no-style\"><div id=\"pgc-6-1-0\" class=\"panel-grid-cell\"><div id=\"panel-6-1-0-0\" class=\"so-panel widget widget_media_image panel-first-child panel-last-child\" data-index=\"1\"><img width=\"150\" height=\"150\" src=\"https://techwithtim.net/wp-content/uploads/2019/02/2000px-Python-logo-notext.svg_-150x150.png\" class=\"image wp-image-2615  attachment-thumbnail size-thumbnail\" alt=\"\" loading=\"lazy\" style=\"max-width: 100%; height: auto;\" srcset=\"https://techwithtim.net/wp-content/uploads/2019/02/2000px-Python-logo-notext.svg_-150x150.png 150w, https://techwithtim.net/wp-content/uploads/2019/02/2000px-Python-logo-notext.svg_-300x300.png 300w, https://techwithtim.net/wp-content/uploads/2019/02/2000px-Python-logo-notext.svg_-768x768.png 768w, https://techwithtim.net/wp-content/uploads/2019/02/2000px-Python-logo-notext.svg_-1024x1024.png 1024w, https://techwithtim.net/wp-content/uploads/2019/02/2000px-Python-logo-notext.svg_.png 2000w\" sizes=\"(max-width: 150px) 100vw, 150px\"></div></div><div id=\"pgc-6-1-1\" class=\"panel-grid-cell\"><div id=\"panel-6-1-1-0\" class=\"so-panel widget widget_media_image panel-first-child panel-last-child\" data-index=\"2\"><img width=\"300\" height=\"191\" src=\"https://techwithtim.net/wp-content/uploads/2019/02/cs-brand-300x191.png\" class=\"image wp-image-2617  attachment-medium size-medium\" alt=\"\" loading=\"lazy\" style=\"max-width: 100%; height: auto;\" srcset=\"https://techwithtim.net/wp-content/uploads/2019/02/cs-brand-300x191.png 300w, https://techwithtim.net/wp-content/uploads/2019/02/cs-brand-768x488.png 768w, https://techwithtim.net/wp-content/uploads/2019/02/cs-brand-1024x650.png 1024w\" sizes=\"(max-width: 300px) 100vw, 300px\"></div></div><div id=\"pgc-6-1-2\" class=\"panel-grid-cell\"><div id=\"panel-6-1-2-0\" class=\"so-panel widget widget_media_image panel-first-child panel-last-child\" data-index=\"3\"><div class=\"panel-widget-style panel-widget-style-for-6-1-2-0\"><img width=\"150\" height=\"150\" src=\"https://techwithtim.net/wp-content/uploads/2019/02/58480979cef1014c0b5e4901-150x150.png\" class=\"image wp-image-2618  attachment-thumbnail size-thumbnail\" alt=\"\" loading=\"lazy\" style=\"max-width: 100%; height: auto;\" srcset=\"https://techwithtim.net/wp-content/uploads/2019/02/58480979cef1014c0b5e4901-150x150.png 150w, https://techwithtim.net/wp-content/uploads/2019/02/58480979cef1014c0b5e4901-300x300.png 300w, https://techwithtim.net/wp-content/uploads/2019/02/58480979cef1014c0b5e4901.png 400w\" sizes=\"(max-width: 150px) 100vw, 150px\"></div></div></div></div><div id=\"pg-6-2\" class=\"panel-grid panel-no-style\"><div id=\"pgc-6-2-0\" class=\"panel-grid-cell\"><div id=\"panel-6-2-0-0\" class=\"so-panel widget widget_sow-editor panel-first-child\" data-index=\"4\"><div class=\"so-widget-sow-editor so-widget-sow-editor-base\"><div class=\"siteorigin-widget-tinymce textwidget\"><p></p></div></div></div><div id=\"panel-6-2-0-1\" class=\"so-panel widget widget_sow-button\" data-index=\"5\"><div class=\"so-widget-sow-button so-widget-sow-button-atom-76961545aafd\"><div class=\"ow-button-base ow-button-align-center\"> <a href=\"https://techwithtim.net/tutorials/\" class=\"ow-icon-placement-right ow-button-hover\"> <span> <span class=\"sow-icon-typicons\" data-sow-icon=\"\"></span> Start Programming! </span> </a></div></div></div><div id=\"panel-6-2-0-2\" class=\"so-panel widget widget_sow-editor panel-last-child\" data-index=\"6\"><div class=\"so-widget-sow-editor so-widget-sow-editor-base\"><div class=\"siteorigin-widget-tinymce textwidget\"><p></p></div></div></div></div></div><div id=\"pg-6-3\" class=\"panel-grid panel-no-style\"><div id=\"pgc-6-3-0\" class=\"panel-grid-cell\"><div id=\"panel-6-3-0-0\" class=\"so-panel widget widget_sow-editor panel-first-child panel-last-child\" data-index=\"7\"><div class=\"so-widget-sow-editor so-widget-sow-editor-base\"><div class=\"siteorigin-widget-tinymce textwidget\"><h2>Who is Tim?</h2><p><span style=\"color: black;\">That would be me! The creator of the site and the owner of the YouTube channel <a style=\"color: #333333;\" href=\"https://youtube.com/techwithtim\">Tech With Tim.</a>&nbsp;I am a first year computer science student that has a passion for programming and everything tech! Teaching and writing guides is my favorite past-time and allows for me to reinforce my learning while providing value to all of my supporters. As I learn and develop my programming skills I will be sharing all my knowledge on this site and on my channel completely for FREE!</span></p></div></div></div></div><div id=\"pgc-6-3-1\" class=\"panel-grid-cell\"><div id=\"panel-6-3-1-0\" class=\"so-panel widget widget_sow-editor panel-first-child panel-last-child\" data-index=\"8\"><div class=\"so-widget-sow-editor so-widget-sow-editor-base\"><div class=\"siteorigin-widget-tinymce textwidget\"><h2>What is techwithtim.net?</h2><p><span style=\"color: black;\">On this site I post all kinds of tech and programming tutorials and guides. From learning the <span style=\"text-decoration: underline;\">basics of programming</span> to creating <span style=\"text-decoration: underline;\">Artificial Intelligence</span> and <span style=\"text-decoration: underline;\">Machine learning</span> applications. Every tutorial consists of two main components, videos and text. If you're more interested in listening and watching almost EVERY guide &amp; tutorial has a video component.</span></p></div></div></div></div></div><div id=\"pg-6-4\" class=\"panel-grid panel-no-style\"><div id=\"pgc-6-4-0\" class=\"panel-grid-cell panel-grid-cell-empty\"></div></div></div></div><footer class=\"entry-footer\"></footer></article></main></div><div id=\"secondary\" class=\"widget-area col-md-4\" role=\"complementary\" style=\"height: auto !important; min-height: 0px !important;\"><aside id=\"search-2\" class=\"widget widget_search\"><form role=\"search\" method=\"get\" class=\"search-form\" action=\"https://techwithtim.net/\"> <label> <span class=\"screen-reader-text\">Search for:</span> <input type=\"search\" class=\"search-field\" placeholder=\"Search …\" value=\"\" name=\"s\"> </label> <input type=\"submit\" class=\"search-submit\" value=\"Search\"></form></aside><aside id=\"nav_menu-5\" class=\"widget widget_nav_menu\" style=\"height: auto !important;\"><h1 class=\"widget-title\">Tutorials &amp; Guides</h1><div class=\"menu-tutorials-container\"><ul id=\"menu-tutorials\" class=\"menu\"><li id=\"menu-item-402\" class=\"menu-item menu-item-type-post_type menu-item-object-page menu-item-402\"><a href=\"https://techwithtim.net/tutorials/python-programming/\">Python Programming</a></li><li id=\"menu-item-404\" class=\"menu-item menu-item-type-post_type menu-item-object-page menu-item-404\"><a href=\"https://techwithtim.net/tutorials/game-development-with-python/\">Game Development With Python</a></li><li id=\"menu-item-403\" class=\"check_mark menu-item menu-item-type-post_type menu-item-object-page menu-item-403\"><a href=\"https://techwithtim.net/tutorials/python-module-walk-throughs/\">Python Module Walk-Through’s</a></li><li id=\"menu-item-1571\" class=\"menu-item menu-item-type-post_type menu-item-object-page menu-item-1571\"><a href=\"https://techwithtim.net/tutorials/machine-learning-python/\">Machine Learning With Python</a></li><li id=\"menu-item-3196\" class=\"menu-item menu-item-type-post_type menu-item-object-page menu-item-3196\"><a href=\"https://techwithtim.net/tutorials/python-neural-networks/\">Python Neural Networks</a></li><li id=\"menu-item-3039\" class=\"menu-item menu-item-type-post_type menu-item-object-page menu-item-3039\"><a href=\"https://techwithtim.net/tutorials/django/\">Django Tutorial</a></li><li id=\"menu-item-2462\" class=\"menu-item menu-item-type-post_type menu-item-object-page menu-item-2462\"><a href=\"https://techwithtim.net/tutorials/discord-py/\">Discord.py Tutorials</a></li><li id=\"menu-item-3356\" class=\"menu-item menu-item-type-post_type menu-item-object-page menu-item-3356\"><a href=\"https://techwithtim.net/tutorials/ai-chatbot/\">Python AI Chat Bot Tutorial</a></li><li id=\"menu-item-3581\" class=\"menu-item menu-item-type-post_type menu-item-object-page menu-item-3581\"><a href=\"https://techwithtim.net/tutorials/voice-assistant/\">Voice Assistant Tutorial</a></li><li id=\"menu-item-3666\" class=\"menu-item menu-item-type-post_type menu-item-object-page menu-item-3666\"><a href=\"https://techwithtim.net/tutorials/flask/\">Flask Web Development</a></li><li id=\"menu-item-405\" class=\"menu-item menu-item-type-post_type menu-item-object-page menu-item-405\"><a href=\"https://techwithtim.net/tutorials/java-programming/\">Java Programming</a></li></ul></div><div class=\"google-auto-placed\" style=\"width: 100%; height: auto; clear: both; text-align: center;\"><ins data-ad-format=\"auto\" class=\"adsbygoogle adsbygoogle-noablate\" data-ad-client=\"ca-pub-6240468619130074\" data-adsbygoogle-status=\"done\" style=\"display: block; margin: 10px auto; background-color: transparent; height: 236px;\"><ins id=\"aswift_2_expand\" style=\"display: inline-table; border: none; height: 236px; margin: 0px; padding: 0px; position: relative; visibility: visible; width: 283px; background-color: transparent;\"><ins id=\"aswift_2_anchor\" style=\"display: block; border: none; height: 236px; margin: 0px; padding: 0px; position: relative; visibility: visible; width: 283px; background-color: transparent; overflow: hidden;\"><iframe id=\"aswift_2\" name=\"aswift_2\" style=\"left: 0px; position: absolute; top: 0px; border: 0px; width: 283px; height: 236px;\" sandbox=\"allow-forms allow-popups allow-popups-to-escape-sandbox allow-same-origin allow-scripts allow-top-navigation-by-user-activation\" width=\"283\" height=\"236\" frameborder=\"0\" src=\"https://googleads.g.doubleclick.net/pagead/ads?client=ca-pub-6240468619130074&amp;output=html&amp;h=200&amp;adk=528406638&amp;adf=829307136&amp;w=283&amp;fwrn=4&amp;fwrnh=100&amp;lmt=1599427995&amp;rafmt=1&amp;to=qs&amp;pwprc=8005837712&amp;psa=0&amp;guci=2.2.0.0.2.2.0.0&amp;format=283x200&amp;url=https%3A%2F%2Ftechwithtim.net%2F&amp;flash=0&amp;fwr=0&amp;rpe=1&amp;resp_fmts=3&amp;wgl=1&amp;adsid=NT&amp;dt=1599427995939&amp;bpp=4&amp;bdt=4118&amp;idt=4&amp;shv=r20200831&amp;cbv=r20190131&amp;ptt=9&amp;saldr=aa&amp;abxe=1&amp;cookie=ID%3D1e6cd1f22091a69b-22f6fa0713a6008b%3AT%3D1599427996%3ART%3D1599427996%3AS%3DALNI_MZgZ2XCje2IrFjaB2L14NatSF-Rig&amp;prev_fmts=283x236%2C0x0&amp;nras=1&amp;correlator=8455233807110&amp;frm=20&amp;pv=1&amp;ga_vid=338694169.1599427994&amp;ga_sid=1599427995&amp;ga_hid=1401923753&amp;ga_fc=0&amp;iag=0&amp;icsg=8928943&amp;dssz=19&amp;mdo=0&amp;mso=0&amp;u_tz=60&amp;u_his=2&amp;u_java=0&amp;u_h=768&amp;u_w=1366&amp;u_ah=768&amp;u_aw=1366&amp;u_cd=24&amp;u_nplug=3&amp;u_nmime=4&amp;adx=680&amp;ady=1017&amp;biw=1017&amp;bih=616&amp;scr_x=0&amp;scr_y=0&amp;eid=44726949%2C21066393&amp;oid=3&amp;pvsid=1646792144202739&amp;pem=196&amp;rx=0&amp;eae=0&amp;fc=896&amp;brdim=10%2C10%2C10%2C10%2C1366%2C0%2C1050%2C748%2C1034%2C616&amp;vis=1&amp;rsz=%7C%7CeEbr%7C&amp;abl=CS&amp;pfx=0&amp;fu=8320&amp;bc=31&amp;ifi=2&amp;uci=a!2&amp;btvi=2&amp;fsb=1&amp;xpc=tjS4o0Jo7h&amp;p=https%3A//techwithtim.net&amp;dtd=26\" marginwidth=\"0\" marginheight=\"0\" vspace=\"0\" hspace=\"0\" allowtransparency=\"true\" scrolling=\"no\" allowfullscreen=\"true\" data-google-container-id=\"a!2\" data-google-query-id=\"CIDpt8291esCFSlAHQkdGJ4PSg\" data-load-complete=\"true\"></iframe></ins></ins></ins></div></aside><aside id=\"custom_html-9\" class=\"widget_text widget widget_custom_html\"><div class=\"textwidget custom-html-widget\"><script async=\"\" src=\"//pagead2.googlesyndication.com/pagead/js/adsbygoogle.js\"></script> <ins class=\"adsbygoogle\" style=\"display: block; text-align: center; height: 236px;\" data-ad-layout=\"in-article\" data-ad-format=\"fluid\" data-ad-client=\"ca-pub-6240468619130074\" data-ad-slot=\"2392953184\" data-adsbygoogle-status=\"done\"><ins id=\"aswift_0_expand\" style=\"display:inline-table;border:none;height:236px;margin:0;padding:0;position:relative;visibility:visible;width:283px;background-color:transparent;\"><ins id=\"aswift_0_anchor\" style=\"display:block;border:none;height:236px;margin:0;padding:0;position:relative;visibility:visible;width:283px;background-color:transparent;\"><iframe id=\"aswift_0\" name=\"aswift_0\" style=\"left:0;position:absolute;top:0;border:0;width:283px;height:236px;\" sandbox=\"allow-forms allow-popups allow-popups-to-escape-sandbox allow-same-origin allow-scripts allow-top-navigation-by-user-activation\" width=\"283\" height=\"236\" frameborder=\"0\" src=\"https://googleads.g.doubleclick.net/pagead/ads?client=ca-pub-6240468619130074&amp;output=html&amp;h=236&amp;slotname=2392953184&amp;adk=2394483865&amp;adf=1414949356&amp;w=283&amp;fwrn=4&amp;lmt=1599427995&amp;rafmt=11&amp;psa=0&amp;guci=2.2.0.0.2.2.0.0&amp;format=283x236&amp;url=https%3A%2F%2Ftechwithtim.net%2F&amp;flash=0&amp;wgl=1&amp;dt=1599427993889&amp;bpp=48&amp;bdt=2068&amp;idt=1467&amp;shv=r20200831&amp;cbv=r20190131&amp;ptt=9&amp;saldr=aa&amp;abxe=1&amp;cookie=ID%3D1e6cd1f22091a69b-22f6fa0713a6008b%3AT%3D1599427996%3ART%3D1599427996%3AS%3DALNI_MZgZ2XCje2IrFjaB2L14NatSF-Rig&amp;correlator=8455233807110&amp;frm=20&amp;pv=2&amp;ga_vid=338694169.1599427994&amp;ga_sid=1599427995&amp;ga_hid=1401923753&amp;ga_fc=0&amp;iag=0&amp;icsg=540335&amp;dssz=18&amp;mdo=0&amp;mso=0&amp;rplot=4&amp;u_tz=60&amp;u_his=2&amp;u_java=0&amp;u_h=768&amp;u_w=1366&amp;u_ah=768&amp;u_aw=1366&amp;u_cd=24&amp;u_nplug=3&amp;u_nmime=4&amp;adx=680&amp;ady=1031&amp;biw=1017&amp;bih=616&amp;scr_x=0&amp;scr_y=0&amp;eid=44726949%2C21066393&amp;oid=3&amp;pvsid=1646792144202739&amp;pem=196&amp;rx=0&amp;eae=0&amp;fc=896&amp;brdim=10%2C10%2C10%2C10%2C1366%2C0%2C1050%2C748%2C1034%2C616&amp;vis=1&amp;rsz=%7C%7CeEbr%7C&amp;abl=CS&amp;pfx=0&amp;fu=8320&amp;bc=31&amp;ifi=1&amp;uci=a!1&amp;btvi=1&amp;fsb=1&amp;xpc=BeU5YIYoAL&amp;p=https%3A//techwithtim.net&amp;dtd=1508\" marginwidth=\"0\" marginheight=\"0\" vspace=\"0\" hspace=\"0\" allowtransparency=\"true\" scrolling=\"no\" allowfullscreen=\"true\" data-google-container-id=\"a!1\" data-google-query-id=\"CIW4kM291esCFUxWGwod9w0HTg\" data-load-complete=\"true\"></iframe></ins></ins></ins> <script>(adsbygoogle = window.adsbygoogle || []).push({});</script></div></aside></div></div></div><footer id=\"colophon\" class=\"site-footer\" role=\"contentinfo\"><div class=\"site-info\"> <a href=\"mailto:tim@techwithtim.net\">Contact: tim@techwithtim.net</a> <a href=\"https://techwithtim.net/privacy-policy\"> |  Privacy Policy  | </a> <a href=\"https://techwithtim.net/terms-of-service\">Terms of Service</a></div></footer>  <script type=\"text/javascript\">document.body.className = document.body.className.replace(\"siteorigin-panels-before-js\",\"\");</script> <script defer=\"\" src=\"https://techwithtim.net/wp-content/cache/autoptimize/js/autoptimize_44d386fb12b7e8b56178e5a028da9acf.js\"></script><script async=\"\" type=\"text/javascript\" src=\"/_Incapsula_Resource?SWJIYLWA=719d34d31c8e3a6e6fffd425f7e032f3&amp;ns=1&amp;cb=1095513060\"></script>\n",
      "\n",
      "<!--Generated by Endurance Page Cache--><ins class=\"adsbygoogle adsbygoogle-noablate\" data-adsbygoogle-status=\"done\" style=\"display: none !important;\"><ins id=\"aswift_1_expand\" style=\"display:inline-table;border:none;height:0px;margin:0;padding:0;position:relative;visibility:visible;width:0px;background-color:transparent;\"><ins id=\"aswift_1_anchor\" style=\"display:block;border:none;height:0px;margin:0;padding:0;position:relative;visibility:visible;width:0px;background-color:transparent;\"><iframe id=\"aswift_1\" name=\"aswift_1\" style=\"left:0;position:absolute;top:0;border:0;width:undefinedpx;height:undefinedpx;\" sandbox=\"allow-forms allow-popups allow-popups-to-escape-sandbox allow-same-origin allow-scripts allow-top-navigation-by-user-activation\" frameborder=\"0\" src=\"https://googleads.g.doubleclick.net/pagead/ads?client=ca-pub-6240468619130074&amp;output=html&amp;adk=1812271804&amp;adf=3025194257&amp;lmt=1599427995&amp;plat=1%3A32776%2C2%3A32776%2C9%3A32776%2C10%3A32%2C11%3A32%2C16%3A8388608%2C17%3A32%2C24%3A32%2C25%3A32%2C30%3A1048576%2C32%3A32%2C40%3A32&amp;guci=2.2.0.0.2.2.0.0&amp;format=0x0&amp;url=https%3A%2F%2Ftechwithtim.net%2F&amp;ea=0&amp;flash=0&amp;pra=7&amp;wgl=1&amp;dt=1599427993939&amp;bpp=8&amp;bdt=2118&amp;idt=1485&amp;shv=r20200831&amp;cbv=r20190131&amp;ptt=9&amp;saldr=aa&amp;abxe=1&amp;cookie=ID%3D1e6cd1f22091a69b-22f6fa0713a6008b%3AT%3D1599427996%3ART%3D1599427996%3AS%3DALNI_MZgZ2XCje2IrFjaB2L14NatSF-Rig&amp;prev_fmts=283x236&amp;nras=1&amp;correlator=8455233807110&amp;frm=20&amp;pv=1&amp;ga_vid=338694169.1599427994&amp;ga_sid=1599427995&amp;ga_hid=1401923753&amp;ga_fc=0&amp;iag=0&amp;icsg=8928943&amp;dssz=19&amp;mdo=0&amp;mso=0&amp;u_tz=60&amp;u_his=2&amp;u_java=0&amp;u_h=768&amp;u_w=1366&amp;u_ah=768&amp;u_aw=1366&amp;u_cd=24&amp;u_nplug=3&amp;u_nmime=4&amp;adx=-12245933&amp;ady=-12245933&amp;biw=1017&amp;bih=616&amp;scr_x=0&amp;scr_y=0&amp;eid=44726949%2C21066393&amp;oid=3&amp;pvsid=1646792144202739&amp;pem=196&amp;rx=0&amp;eae=2&amp;fc=896&amp;brdim=10%2C10%2C10%2C10%2C1366%2C0%2C1050%2C748%2C1034%2C616&amp;vis=1&amp;rsz=%7C%7Cs%7C&amp;abl=NS&amp;fu=8192&amp;bc=31&amp;ifi=1&amp;uci=a!1&amp;fsb=1&amp;dtd=1498\" marginwidth=\"0\" marginheight=\"0\" vspace=\"0\" hspace=\"0\" allowtransparency=\"true\" scrolling=\"no\" allowfullscreen=\"true\" data-google-container-id=\"a!1\" data-load-complete=\"true\"></iframe></ins></ins></ins><iframe id=\"google_osd_static_frame_7810551627504\" name=\"google_osd_static_frame\" style=\"display: none; width: 0px; height: 0px;\"></iframe></body><iframe id=\"google_esf\" name=\"google_esf\" src=\"https://googleads.g.doubleclick.net/pagead/html/r20200831/r20190131/zrt_lookup.html#\" data-ad-client=\"ca-pub-6240468619130074\" style=\"display: none;\"></iframe></html>\n"
     ]
    }
   ],
   "source": [
    "print(driver.page_source) #the entire source code for the page"
   ]
  },
  {
   "cell_type": "code",
   "execution_count": 53,
   "metadata": {},
   "outputs": [
    {
     "name": "stdout",
     "output_type": "stream",
     "text": [
      "SEARCH RESULTS FOR: TEST\n",
      "November 4, 2019\n",
      "HTTP MethodsIn this tutorial we will talk about HTTP methods. HTTP methods are the standard way of sending information to and from a web server. To break it down, a website runs on a server or multiple servers and simple returns information to a client (web-browser). Information is exchanged between the client and the server […]\n",
      "November 4, 2019\n",
      "Creating a Base Template So you may have realized that creating new web pages for every single page on our website is extremely inefficient. Especially when our website follows a theme and has similar elements (like a sidebar) on every page. This is where template inheritance comes in. We will talk about how to inherit […]\n",
      "October 29, 2019\n",
      "Redirecting ContinuedStarting from where we left off in the last tutorial. I wanted to show how to redirect to a function that takes an argument (like our user function). To do this we simply need to define the parameter name and a value in the url_for function, like below.from flask import Flask, redirect, url_for app […]\n",
      "October 28, 2019\n",
      "What is Flask?Flask is a known as a micro web framework. This means it provides some basic functionality to allow developers to build simple websites. It does not come with all the bells and whistles like some other web frameworks like django have and therefore is typically not used for complex websites. However, there is […]\n",
      "September 8, 2019\n",
      "Up until this point we have only been able to get events the next upcoming events from our google calendar. In this tutorial I will show you how you can retrieve a list of events that occur in one day. Using Pyttsx3 In the previous tutorials we used gTTS (Google Text-to-Speech) to output audio and […]\n",
      "September 8, 2019\n",
      "In this tutorial we will finish our get_date() function and test it out! PLEASE USE THE CODE BELOW, IT FIXES SOME ERRORS FROM THE VIDEO ABOVE Finishing get_date() Now that we have extracted the information from the text it’s time to process it. There are a few scenarios we need to consider: 1. We have […]\n",
      "September 4, 2019\n",
      "Getting User Input In the last tutorial we learned how to output sound from our python script using the gTTS module. In this video we will do the opposite, we will get user input and turn it into text data that we can process. Let’s get started by creating a function called get_audio. def get_audio(): […]\n",
      "July 19, 2019\n",
      "This PyQt5 Tutorial will show you how to create message boxes/popup windows using pyqt. We will use the QMessageBox class to accomplish this. Creating a Basic GUI I’ve started this tutorial by creating a very minimal GUI that contains one button. This way we can use the button press to trigger a popup/mesagebox. This is […]\n",
      "July 18, 2019\n",
      "This PyQt5 Combobox tutorial will show how to create, use and manipulate comboboxes. For those of you unaware a combobox is a box that allows you to choose an item from a list of choices. Creating The GUI For this tutorial we will create a GUI that can simulate the XOR function. We will use […]\n",
      "July 11, 2019\n",
      "This PyQt5 tutorial will show you how to display images using something called a QPixmap. Displaying an Image For this tutorial we will create an image using PyQt Designer and then change them image source from our python code. To display an image we can actually use a label! We will start by dragging in […]\n",
      "Posts navigation\n",
      "1 2 … 4 Next →\n"
     ]
    }
   ],
   "source": [
    "main = driver.find_element_by_id(\"main\") #you can check for this byinspecting the page\n",
    "print(main.text)"
   ]
  },
  {
   "cell_type": "code",
   "execution_count": 179,
   "metadata": {},
   "outputs": [],
   "source": [
    "try:\n",
    "    main = WebDriverWait(driver, 10).until(EC.presence_of_element_located((By.ID, \"main\"))) #code to wait for some time before checking for article\n",
    "except:\n",
    "    driver.quit()"
   ]
  },
  {
   "cell_type": "code",
   "execution_count": 185,
   "metadata": {},
   "outputs": [
    {
     "ename": "WebDriverException",
     "evalue": "Message: chrome not reachable\n  (Session info: chrome=85.0.4183.83)\n",
     "output_type": "error",
     "traceback": [
      "\u001b[1;31m---------------------------------------------------------------------------\u001b[0m",
      "\u001b[1;31mWebDriverException\u001b[0m                        Traceback (most recent call last)",
      "\u001b[1;32m<ipython-input-185-25b0d6a4fae2>\u001b[0m in \u001b[0;36m<module>\u001b[1;34m\u001b[0m\n\u001b[1;32m----> 1\u001b[1;33m \u001b[0marticles\u001b[0m \u001b[1;33m=\u001b[0m \u001b[0mmain\u001b[0m\u001b[1;33m.\u001b[0m\u001b[0mfind_elements_by_tag_name\u001b[0m\u001b[1;33m(\u001b[0m\u001b[1;34m\"article\"\u001b[0m\u001b[1;33m)\u001b[0m\u001b[1;31m#if we want all the headers on the page.\u001b[0m\u001b[1;33m\u001b[0m\u001b[1;33m\u001b[0m\u001b[0m\n\u001b[0m\u001b[0;32m      2\u001b[0m \u001b[1;32mfor\u001b[0m \u001b[0marticle\u001b[0m \u001b[1;32min\u001b[0m \u001b[0marticles\u001b[0m\u001b[1;33m:\u001b[0m\u001b[1;33m\u001b[0m\u001b[1;33m\u001b[0m\u001b[0m\n\u001b[0;32m      3\u001b[0m     \u001b[0mheader\u001b[0m \u001b[1;33m=\u001b[0m \u001b[0marticle\u001b[0m\u001b[1;33m.\u001b[0m\u001b[0mfind_element_by_class_name\u001b[0m\u001b[1;33m(\u001b[0m\u001b[1;34m\"entry-summary\"\u001b[0m\u001b[1;33m)\u001b[0m \u001b[1;31m#we now found the summary of all the titles\u001b[0m\u001b[1;33m\u001b[0m\u001b[1;33m\u001b[0m\u001b[0m\n\u001b[0;32m      4\u001b[0m     \u001b[0mprint\u001b[0m\u001b[1;33m(\u001b[0m\u001b[0mheader\u001b[0m\u001b[1;33m.\u001b[0m\u001b[0mtext\u001b[0m\u001b[1;33m)\u001b[0m\u001b[1;33m\u001b[0m\u001b[1;33m\u001b[0m\u001b[0m\n",
      "\u001b[1;32m~\\Anaconda3\\lib\\site-packages\\selenium\\webdriver\\remote\\webelement.py\u001b[0m in \u001b[0;36mfind_elements_by_tag_name\u001b[1;34m(self, name)\u001b[0m\n\u001b[0;32m    318\u001b[0m             \u001b[0melements\u001b[0m \u001b[1;33m=\u001b[0m \u001b[0melement\u001b[0m\u001b[1;33m.\u001b[0m\u001b[0mfind_elements_by_tag_name\u001b[0m\u001b[1;33m(\u001b[0m\u001b[1;34m'h1'\u001b[0m\u001b[1;33m)\u001b[0m\u001b[1;33m\u001b[0m\u001b[1;33m\u001b[0m\u001b[0m\n\u001b[0;32m    319\u001b[0m         \"\"\"\n\u001b[1;32m--> 320\u001b[1;33m         \u001b[1;32mreturn\u001b[0m \u001b[0mself\u001b[0m\u001b[1;33m.\u001b[0m\u001b[0mfind_elements\u001b[0m\u001b[1;33m(\u001b[0m\u001b[0mby\u001b[0m\u001b[1;33m=\u001b[0m\u001b[0mBy\u001b[0m\u001b[1;33m.\u001b[0m\u001b[0mTAG_NAME\u001b[0m\u001b[1;33m,\u001b[0m \u001b[0mvalue\u001b[0m\u001b[1;33m=\u001b[0m\u001b[0mname\u001b[0m\u001b[1;33m)\u001b[0m\u001b[1;33m\u001b[0m\u001b[1;33m\u001b[0m\u001b[0m\n\u001b[0m\u001b[0;32m    321\u001b[0m \u001b[1;33m\u001b[0m\u001b[0m\n\u001b[0;32m    322\u001b[0m     \u001b[1;32mdef\u001b[0m \u001b[0mfind_element_by_xpath\u001b[0m\u001b[1;33m(\u001b[0m\u001b[0mself\u001b[0m\u001b[1;33m,\u001b[0m \u001b[0mxpath\u001b[0m\u001b[1;33m)\u001b[0m\u001b[1;33m:\u001b[0m\u001b[1;33m\u001b[0m\u001b[1;33m\u001b[0m\u001b[0m\n",
      "\u001b[1;32m~\\Anaconda3\\lib\\site-packages\\selenium\\webdriver\\remote\\webelement.py\u001b[0m in \u001b[0;36mfind_elements\u001b[1;34m(self, by, value)\u001b[0m\n\u001b[0;32m    683\u001b[0m \u001b[1;33m\u001b[0m\u001b[0m\n\u001b[0;32m    684\u001b[0m         return self._execute(Command.FIND_CHILD_ELEMENTS,\n\u001b[1;32m--> 685\u001b[1;33m                              {\"using\": by, \"value\": value})['value']\n\u001b[0m\u001b[0;32m    686\u001b[0m \u001b[1;33m\u001b[0m\u001b[0m\n\u001b[0;32m    687\u001b[0m     \u001b[1;32mdef\u001b[0m \u001b[0m__hash__\u001b[0m\u001b[1;33m(\u001b[0m\u001b[0mself\u001b[0m\u001b[1;33m)\u001b[0m\u001b[1;33m:\u001b[0m\u001b[1;33m\u001b[0m\u001b[1;33m\u001b[0m\u001b[0m\n",
      "\u001b[1;32m~\\Anaconda3\\lib\\site-packages\\selenium\\webdriver\\remote\\webelement.py\u001b[0m in \u001b[0;36m_execute\u001b[1;34m(self, command, params)\u001b[0m\n\u001b[0;32m    631\u001b[0m             \u001b[0mparams\u001b[0m \u001b[1;33m=\u001b[0m \u001b[1;33m{\u001b[0m\u001b[1;33m}\u001b[0m\u001b[1;33m\u001b[0m\u001b[1;33m\u001b[0m\u001b[0m\n\u001b[0;32m    632\u001b[0m         \u001b[0mparams\u001b[0m\u001b[1;33m[\u001b[0m\u001b[1;34m'id'\u001b[0m\u001b[1;33m]\u001b[0m \u001b[1;33m=\u001b[0m \u001b[0mself\u001b[0m\u001b[1;33m.\u001b[0m\u001b[0m_id\u001b[0m\u001b[1;33m\u001b[0m\u001b[1;33m\u001b[0m\u001b[0m\n\u001b[1;32m--> 633\u001b[1;33m         \u001b[1;32mreturn\u001b[0m \u001b[0mself\u001b[0m\u001b[1;33m.\u001b[0m\u001b[0m_parent\u001b[0m\u001b[1;33m.\u001b[0m\u001b[0mexecute\u001b[0m\u001b[1;33m(\u001b[0m\u001b[0mcommand\u001b[0m\u001b[1;33m,\u001b[0m \u001b[0mparams\u001b[0m\u001b[1;33m)\u001b[0m\u001b[1;33m\u001b[0m\u001b[1;33m\u001b[0m\u001b[0m\n\u001b[0m\u001b[0;32m    634\u001b[0m \u001b[1;33m\u001b[0m\u001b[0m\n\u001b[0;32m    635\u001b[0m     \u001b[1;32mdef\u001b[0m \u001b[0mfind_element\u001b[0m\u001b[1;33m(\u001b[0m\u001b[0mself\u001b[0m\u001b[1;33m,\u001b[0m \u001b[0mby\u001b[0m\u001b[1;33m=\u001b[0m\u001b[0mBy\u001b[0m\u001b[1;33m.\u001b[0m\u001b[0mID\u001b[0m\u001b[1;33m,\u001b[0m \u001b[0mvalue\u001b[0m\u001b[1;33m=\u001b[0m\u001b[1;32mNone\u001b[0m\u001b[1;33m)\u001b[0m\u001b[1;33m:\u001b[0m\u001b[1;33m\u001b[0m\u001b[1;33m\u001b[0m\u001b[0m\n",
      "\u001b[1;32m~\\Anaconda3\\lib\\site-packages\\selenium\\webdriver\\remote\\webdriver.py\u001b[0m in \u001b[0;36mexecute\u001b[1;34m(self, driver_command, params)\u001b[0m\n\u001b[0;32m    319\u001b[0m         \u001b[0mresponse\u001b[0m \u001b[1;33m=\u001b[0m \u001b[0mself\u001b[0m\u001b[1;33m.\u001b[0m\u001b[0mcommand_executor\u001b[0m\u001b[1;33m.\u001b[0m\u001b[0mexecute\u001b[0m\u001b[1;33m(\u001b[0m\u001b[0mdriver_command\u001b[0m\u001b[1;33m,\u001b[0m \u001b[0mparams\u001b[0m\u001b[1;33m)\u001b[0m\u001b[1;33m\u001b[0m\u001b[1;33m\u001b[0m\u001b[0m\n\u001b[0;32m    320\u001b[0m         \u001b[1;32mif\u001b[0m \u001b[0mresponse\u001b[0m\u001b[1;33m:\u001b[0m\u001b[1;33m\u001b[0m\u001b[1;33m\u001b[0m\u001b[0m\n\u001b[1;32m--> 321\u001b[1;33m             \u001b[0mself\u001b[0m\u001b[1;33m.\u001b[0m\u001b[0merror_handler\u001b[0m\u001b[1;33m.\u001b[0m\u001b[0mcheck_response\u001b[0m\u001b[1;33m(\u001b[0m\u001b[0mresponse\u001b[0m\u001b[1;33m)\u001b[0m\u001b[1;33m\u001b[0m\u001b[1;33m\u001b[0m\u001b[0m\n\u001b[0m\u001b[0;32m    322\u001b[0m             response['value'] = self._unwrap_value(\n\u001b[0;32m    323\u001b[0m                 response.get('value', None))\n",
      "\u001b[1;32m~\\Anaconda3\\lib\\site-packages\\selenium\\webdriver\\remote\\errorhandler.py\u001b[0m in \u001b[0;36mcheck_response\u001b[1;34m(self, response)\u001b[0m\n\u001b[0;32m    240\u001b[0m                 \u001b[0malert_text\u001b[0m \u001b[1;33m=\u001b[0m \u001b[0mvalue\u001b[0m\u001b[1;33m[\u001b[0m\u001b[1;34m'alert'\u001b[0m\u001b[1;33m]\u001b[0m\u001b[1;33m.\u001b[0m\u001b[0mget\u001b[0m\u001b[1;33m(\u001b[0m\u001b[1;34m'text'\u001b[0m\u001b[1;33m)\u001b[0m\u001b[1;33m\u001b[0m\u001b[1;33m\u001b[0m\u001b[0m\n\u001b[0;32m    241\u001b[0m             \u001b[1;32mraise\u001b[0m \u001b[0mexception_class\u001b[0m\u001b[1;33m(\u001b[0m\u001b[0mmessage\u001b[0m\u001b[1;33m,\u001b[0m \u001b[0mscreen\u001b[0m\u001b[1;33m,\u001b[0m \u001b[0mstacktrace\u001b[0m\u001b[1;33m,\u001b[0m \u001b[0malert_text\u001b[0m\u001b[1;33m)\u001b[0m\u001b[1;33m\u001b[0m\u001b[1;33m\u001b[0m\u001b[0m\n\u001b[1;32m--> 242\u001b[1;33m         \u001b[1;32mraise\u001b[0m \u001b[0mexception_class\u001b[0m\u001b[1;33m(\u001b[0m\u001b[0mmessage\u001b[0m\u001b[1;33m,\u001b[0m \u001b[0mscreen\u001b[0m\u001b[1;33m,\u001b[0m \u001b[0mstacktrace\u001b[0m\u001b[1;33m)\u001b[0m\u001b[1;33m\u001b[0m\u001b[1;33m\u001b[0m\u001b[0m\n\u001b[0m\u001b[0;32m    243\u001b[0m \u001b[1;33m\u001b[0m\u001b[0m\n\u001b[0;32m    244\u001b[0m     \u001b[1;32mdef\u001b[0m \u001b[0m_value_or_default\u001b[0m\u001b[1;33m(\u001b[0m\u001b[0mself\u001b[0m\u001b[1;33m,\u001b[0m \u001b[0mobj\u001b[0m\u001b[1;33m,\u001b[0m \u001b[0mkey\u001b[0m\u001b[1;33m,\u001b[0m \u001b[0mdefault\u001b[0m\u001b[1;33m)\u001b[0m\u001b[1;33m:\u001b[0m\u001b[1;33m\u001b[0m\u001b[1;33m\u001b[0m\u001b[0m\n",
      "\u001b[1;31mWebDriverException\u001b[0m: Message: chrome not reachable\n  (Session info: chrome=85.0.4183.83)\n"
     ]
    }
   ],
   "source": [
    "jerry = main.find_elements_by_tag_name(\"article\")#if we want all the headers on the page.\n",
    "for article in jerry:\n",
    "    header = article.find_element_by_class_name(\"entry-summary\") #we now found the summary of all the titles\n",
    "    print(header.text)"
   ]
  },
  {
   "cell_type": "markdown",
   "metadata": {},
   "source": [
    "## Navigating through pages"
   ]
  },
  {
   "cell_type": "code",
   "execution_count": null,
   "metadata": {},
   "outputs": [],
   "source": [
    "link = driver.find_element_by_link_text(\"Python Programming\") #to find element by what is written on it\n",
    "link.click()"
   ]
  },
  {
   "cell_type": "code",
   "execution_count": null,
   "metadata": {},
   "outputs": [],
   "source": [
    "try:\n",
    "    element = WebDriverWait(driver, 10).until(E021\n",
    "                                              \"\n",
    "                                              +C.presence_of_element_located((By.LINK_TEXT, \"Beginner Python Tutorials\")))\n",
    "    element.clear() #to clear and make sure there is nothing in the search bar\n",
    "    element.click()\n",
    "    #code to wait for some time before checking for article\n",
    "    element = WebDriverWait(driver, 10).until(EC.presence_of_element_located((By.ID, \"sow-button-19310003\"))) \n",
    "    #code to wait for some time before checking for article\n",
    "    element.click()\n",
    "    \n",
    "    driver.back()\n",
    "    driver.back() #to goback to the previous page\n",
    "    driver.back() \n",
    "    driver.forward() #to navigate forward\n",
    "    driver.forward()\n",
    "except:\n",
    "    driver.quit()"
   ]
  }
 ],
 "metadata": {
  "kernelspec": {
   "display_name": "Python 3",
   "language": "python",
   "name": "python3"
  },
  "language_info": {
   "codemirror_mode": {
    "name": "ipython",
    "version": 3
   },
   "file_extension": ".py",
   "mimetype": "text/x-python",
   "name": "python",
   "nbconvert_exporter": "python",
   "pygments_lexer": "ipython3",
   "version": "3.7.4"
  }
 },
 "nbformat": 4,
 "nbformat_minor": 2
}
